{
  "nbformat": 4,
  "nbformat_minor": 0,
  "metadata": {
    "colab": {
      "name": "Text_Summarization_spacy",
      "provenance": [],
      "authorship_tag": "ABX9TyNnJu7H4EK5yR/x9g0hIGeI",
      "include_colab_link": true
    },
    "kernelspec": {
      "name": "python3",
      "display_name": "Python 3"
    },
    "language_info": {
      "name": "python"
    }
  },
  "cells": [
    {
      "cell_type": "markdown",
      "metadata": {
        "id": "view-in-github",
        "colab_type": "text"
      },
      "source": [
        "<a href=\"https://colab.research.google.com/github/salonichoubey/Text_Summarization/blob/main/Text_Summarization_spacy.ipynb\" target=\"_parent\"><img src=\"https://colab.research.google.com/assets/colab-badge.svg\" alt=\"Open In Colab\"/></a>"
      ]
    },
    {
      "cell_type": "code",
      "source": [
        "import spacy as spacy\n",
        "from spacy.lang.en.stop_words import STOP_WORDS\n",
        "from string import punctuation\n",
        "import pandas as pd\n"
      ],
      "metadata": {
        "id": "rBZelX_6dVDM"
      },
      "execution_count": null,
      "outputs": []
    },
    {
      "cell_type": "code",
      "source": [
        "text = \"\"\"Prime Minister Narendra Modi on Wednesday gave the mantra of ‘compete and conquer’ during his opening remarks at the inauguration of the 25th National Youth Festival in Puducherry. Speaking at the National Youth Festival programme, PM Modi said that the world has recognised India's two limitless powers of demography and democracy.“The youth of India carry democratic values along with demographic dividends. India considers its youths as development drivers,” he said.The day, January 12, being the birth anniversary of Swami Vivekananda, is observed as National Youth Day. “The year 2022 is very important for the youth of India. Today's youth has to live for the country and fulfill the dreams of our freedom fighters... The strength of the youth will take India to greater heights,” he added.PM Modi stressed that the contributions of many freedom fighters did not get the recognition they deserved. \"The more our youth write and research about such individuals, the more awareness will increase in future generations f the country,\" he urged.The prime minister also inaugurated a technology centre of the MSME ministry and Perunthalaivar Kamarajar Manimandapam, an auditorium with an open-air theatre in Puducherry via video conference. The auditorium, which can accommodate more than 1000 people, would primarily be used for educational purposes.After inaugurating the technology centre, PM Modi said that the role of the MSME sector is very important in creating 'Atmanirbhar Bharat'. “It is very important our MSME use the technologies that are changing the world. The new MSME centre is an important step in that direction,” he said.\"\"\""
      ],
      "metadata": {
        "id": "muTZvXpxq3EF"
      },
      "execution_count": null,
      "outputs": []
    },
    {
      "cell_type": "code",
      "source": [
        "stopwords = list(STOP_WORDS)"
      ],
      "metadata": {
        "id": "74izk7vbdrrT"
      },
      "execution_count": null,
      "outputs": []
    },
    {
      "cell_type": "code",
      "source": [
        "nlp = spacy.load('en_core_web_sm')"
      ],
      "metadata": {
        "id": "gCRNtc1qfuwi"
      },
      "execution_count": null,
      "outputs": []
    },
    {
      "cell_type": "code",
      "source": [
        "doc = nlp(text)\n",
        "print(doc)"
      ],
      "metadata": {
        "colab": {
          "base_uri": "https://localhost:8080/"
        },
        "id": "RlA46FNTMWKT",
        "outputId": "973a7054-17f5-412d-c00e-7d85ab77825c"
      },
      "execution_count": null,
      "outputs": [
        {
          "output_type": "stream",
          "name": "stdout",
          "text": [
            "Prime Minister Narendra Modi on Wednesday gave the mantra of ‘compete and conquer’ during his opening remarks at the inauguration of the 25th National Youth Festival in Puducherry. Speaking at the National Youth Festival programme, PM Modi said that the world has recognised India's two limitless powers of demography and democracy.“The youth of India carry democratic values along with demographic dividends. India considers its youths as development drivers,” he said.The day, January 12, being the birth anniversary of Swami Vivekananda, is observed as National Youth Day. “The year 2022 is very important for the youth of India. Today's youth has to live for the country and fulfill the dreams of our freedom fighters... The strength of the youth will take India to greater heights,” he added.PM Modi stressed that the contributions of many freedom fighters did not get the recognition they deserved. \"The more our youth write and research about such individuals, the more awareness will increase in future generations f the country,\" he urged.The prime minister also inaugurated a technology centre of the MSME ministry and Perunthalaivar Kamarajar Manimandapam, an auditorium with an open-air theatre in Puducherry via video conference. The auditorium, which can accommodate more than 1000 people, would primarily be used for educational purposes.After inaugurating the technology centre, PM Modi said that the role of the MSME sector is very important in creating 'Atmanirbhar Bharat'. “It is very important our MSME use the technologies that are changing the world. The new MSME centre is an important step in that direction,” he said.\n"
          ]
        }
      ]
    },
    {
      "cell_type": "code",
      "source": [
        "tokens = [token.text for token in doc]\n",
        "print(tokens)"
      ],
      "metadata": {
        "id": "8GJX6H4GMxdW",
        "colab": {
          "base_uri": "https://localhost:8080/"
        },
        "outputId": "f1fafa2c-0cf5-46b3-e24f-74dfa00461ba"
      },
      "execution_count": null,
      "outputs": [
        {
          "output_type": "stream",
          "name": "stdout",
          "text": [
            "['Prime', 'Minister', 'Narendra', 'Modi', 'on', 'Wednesday', 'gave', 'the', 'mantra', 'of', '‘', 'compete', 'and', 'conquer', '’', 'during', 'his', 'opening', 'remarks', 'at', 'the', 'inauguration', 'of', 'the', '25th', 'National', 'Youth', 'Festival', 'in', 'Puducherry', '.', 'Speaking', 'at', 'the', 'National', 'Youth', 'Festival', 'programme', ',', 'PM', 'Modi', 'said', 'that', 'the', 'world', 'has', 'recognised', 'India', \"'s\", 'two', 'limitless', 'powers', 'of', 'demography', 'and', 'democracy', '.', '“The', 'youth', 'of', 'India', 'carry', 'democratic', 'values', 'along', 'with', 'demographic', 'dividends', '.', 'India', 'considers', 'its', 'youths', 'as', 'development', 'drivers', ',', '”', 'he', 'said', '.', 'The', 'day', ',', 'January', '12', ',', 'being', 'the', 'birth', 'anniversary', 'of', 'Swami', 'Vivekananda', ',', 'is', 'observed', 'as', 'National', 'Youth', 'Day', '.', '“', 'The', 'year', '2022', 'is', 'very', 'important', 'for', 'the', 'youth', 'of', 'India', '.', 'Today', \"'s\", 'youth', 'has', 'to', 'live', 'for', 'the', 'country', 'and', 'fulfill', 'the', 'dreams', 'of', 'our', 'freedom', 'fighters', '...', 'The', 'strength', 'of', 'the', 'youth', 'will', 'take', 'India', 'to', 'greater', 'heights', ',', '”', 'he', 'added', '.', 'PM', 'Modi', 'stressed', 'that', 'the', 'contributions', 'of', 'many', 'freedom', 'fighters', 'did', 'not', 'get', 'the', 'recognition', 'they', 'deserved', '.', '\"', 'The', 'more', 'our', 'youth', 'write', 'and', 'research', 'about', 'such', 'individuals', ',', 'the', 'more', 'awareness', 'will', 'increase', 'in', 'future', 'generations', 'f', 'the', 'country', ',', '\"', 'he', 'urged', '.', 'The', 'prime', 'minister', 'also', 'inaugurated', 'a', 'technology', 'centre', 'of', 'the', 'MSME', 'ministry', 'and', 'Perunthalaivar', 'Kamarajar', 'Manimandapam', ',', 'an', 'auditorium', 'with', 'an', 'open', '-', 'air', 'theatre', 'in', 'Puducherry', 'via', 'video', 'conference', '.', 'The', 'auditorium', ',', 'which', 'can', 'accommodate', 'more', 'than', '1000', 'people', ',', 'would', 'primarily', 'be', 'used', 'for', 'educational', 'purposes', '.', 'After', 'inaugurating', 'the', 'technology', 'centre', ',', 'PM', 'Modi', 'said', 'that', 'the', 'role', 'of', 'the', 'MSME', 'sector', 'is', 'very', 'important', 'in', 'creating', \"'\", 'Atmanirbhar', 'Bharat', \"'\", '.', '“', 'It', 'is', 'very', 'important', 'our', 'MSME', 'use', 'the', 'technologies', 'that', 'are', 'changing', 'the', 'world', '.', 'The', 'new', 'MSME', 'centre', 'is', 'an', 'important', 'step', 'in', 'that', 'direction', ',', '”', 'he', 'said', '.']\n"
          ]
        }
      ]
    },
    {
      "cell_type": "code",
      "source": [
        "punctuation = punctuation + '\\n'\n",
        "punctuation"
      ],
      "metadata": {
        "colab": {
          "base_uri": "https://localhost:8080/",
          "height": 35
        },
        "id": "fImTM1bDruI9",
        "outputId": "3b0d8bef-928a-49f1-ebc3-2f44cd1d1d47"
      },
      "execution_count": null,
      "outputs": [
        {
          "output_type": "execute_result",
          "data": {
            "application/vnd.google.colaboratory.intrinsic+json": {
              "type": "string"
            },
            "text/plain": [
              "'!\"#$%&\\'()*+,-./:;<=>?@[\\\\]^_`{|}~\\n'"
            ]
          },
          "metadata": {},
          "execution_count": 22
        }
      ]
    },
    {
      "cell_type": "code",
      "source": [
        "word_frequencies = {}\n",
        "for word in doc:\n",
        "  if word.text.lower() not in stopwords:\n",
        "    if word.text.lower() not in punctuation:\n",
        "      if word.text not in word_frequencies.keys():\n",
        "        word_frequencies[word.text] = 1\n",
        "      else:\n",
        "        word_frequencies[word.text] += 1"
      ],
      "metadata": {
        "id": "Vn8btPXtsGVM"
      },
      "execution_count": null,
      "outputs": []
    },
    {
      "cell_type": "code",
      "source": [
        "word_frequencies"
      ],
      "metadata": {
        "colab": {
          "base_uri": "https://localhost:8080/"
        },
        "id": "z9pPRwW6wYLa",
        "outputId": "c61d43a3-ee11-403a-d386-7952f0a30249"
      },
      "execution_count": null,
      "outputs": [
        {
          "output_type": "execute_result",
          "data": {
            "text/plain": [
              "{'...': 1,\n",
              " '1000': 1,\n",
              " '12': 1,\n",
              " '2022': 1,\n",
              " '25th': 1,\n",
              " 'Atmanirbhar': 1,\n",
              " 'Bharat': 1,\n",
              " 'Day': 1,\n",
              " 'Festival': 2,\n",
              " 'India': 5,\n",
              " 'January': 1,\n",
              " 'Kamarajar': 1,\n",
              " 'MSME': 4,\n",
              " 'Manimandapam': 1,\n",
              " 'Minister': 1,\n",
              " 'Modi': 4,\n",
              " 'Narendra': 1,\n",
              " 'National': 3,\n",
              " 'PM': 3,\n",
              " 'Perunthalaivar': 1,\n",
              " 'Prime': 1,\n",
              " 'Puducherry': 2,\n",
              " 'Speaking': 1,\n",
              " 'Swami': 1,\n",
              " 'Today': 1,\n",
              " 'Vivekananda': 1,\n",
              " 'Wednesday': 1,\n",
              " 'Youth': 3,\n",
              " 'accommodate': 1,\n",
              " 'added': 1,\n",
              " 'air': 1,\n",
              " 'anniversary': 1,\n",
              " 'auditorium': 2,\n",
              " 'awareness': 1,\n",
              " 'birth': 1,\n",
              " 'carry': 1,\n",
              " 'centre': 3,\n",
              " 'changing': 1,\n",
              " 'compete': 1,\n",
              " 'conference': 1,\n",
              " 'conquer': 1,\n",
              " 'considers': 1,\n",
              " 'contributions': 1,\n",
              " 'country': 2,\n",
              " 'creating': 1,\n",
              " 'day': 1,\n",
              " 'democracy': 1,\n",
              " 'democratic': 1,\n",
              " 'demographic': 1,\n",
              " 'demography': 1,\n",
              " 'deserved': 1,\n",
              " 'development': 1,\n",
              " 'direction': 1,\n",
              " 'dividends': 1,\n",
              " 'dreams': 1,\n",
              " 'drivers': 1,\n",
              " 'educational': 1,\n",
              " 'f': 1,\n",
              " 'fighters': 2,\n",
              " 'freedom': 2,\n",
              " 'fulfill': 1,\n",
              " 'future': 1,\n",
              " 'gave': 1,\n",
              " 'generations': 1,\n",
              " 'greater': 1,\n",
              " 'heights': 1,\n",
              " 'important': 4,\n",
              " 'inaugurated': 1,\n",
              " 'inaugurating': 1,\n",
              " 'inauguration': 1,\n",
              " 'increase': 1,\n",
              " 'individuals': 1,\n",
              " 'limitless': 1,\n",
              " 'live': 1,\n",
              " 'mantra': 1,\n",
              " 'minister': 1,\n",
              " 'ministry': 1,\n",
              " 'new': 1,\n",
              " 'observed': 1,\n",
              " 'open': 1,\n",
              " 'opening': 1,\n",
              " 'people': 1,\n",
              " 'powers': 1,\n",
              " 'primarily': 1,\n",
              " 'prime': 1,\n",
              " 'programme': 1,\n",
              " 'purposes': 1,\n",
              " 'recognised': 1,\n",
              " 'recognition': 1,\n",
              " 'remarks': 1,\n",
              " 'research': 1,\n",
              " 'role': 1,\n",
              " 'said': 4,\n",
              " 'sector': 1,\n",
              " 'step': 1,\n",
              " 'strength': 1,\n",
              " 'stressed': 1,\n",
              " 'technologies': 1,\n",
              " 'technology': 2,\n",
              " 'theatre': 1,\n",
              " 'urged': 1,\n",
              " 'use': 1,\n",
              " 'values': 1,\n",
              " 'video': 1,\n",
              " 'world': 2,\n",
              " 'write': 1,\n",
              " 'year': 1,\n",
              " 'youth': 5,\n",
              " 'youths': 1,\n",
              " '‘': 1,\n",
              " '’': 1,\n",
              " '“': 2,\n",
              " '“The': 1,\n",
              " '”': 3}"
            ]
          },
          "metadata": {},
          "execution_count": 25
        }
      ]
    },
    {
      "cell_type": "code",
      "source": [
        "max_frequencies = max(word_frequencies.values())\n",
        "print(max_frequencies)"
      ],
      "metadata": {
        "colab": {
          "base_uri": "https://localhost:8080/"
        },
        "id": "38-MARIE4wpa",
        "outputId": "60c8f7cb-ff3f-4294-a152-3a74624c2710"
      },
      "execution_count": null,
      "outputs": [
        {
          "output_type": "stream",
          "name": "stdout",
          "text": [
            "5\n"
          ]
        }
      ]
    },
    {
      "cell_type": "markdown",
      "source": [
        "**Normalization**  divide each word frequency by 5(i.e. max frequency) "
      ],
      "metadata": {
        "id": "q04BvW7D5h3U"
      }
    },
    {
      "cell_type": "code",
      "source": [
        "for word in word_frequencies.keys():\n",
        "  word_frequencies[word] = word_frequencies[word]/max_frequencies\n",
        "print(word_frequencies)"
      ],
      "metadata": {
        "colab": {
          "base_uri": "https://localhost:8080/"
        },
        "id": "gIn128MI5SFT",
        "outputId": "84b61f80-ef90-4344-981a-ef9e4628d5db"
      },
      "execution_count": null,
      "outputs": [
        {
          "output_type": "stream",
          "name": "stdout",
          "text": [
            "{'Prime': 0.04, 'Minister': 0.04, 'Narendra': 0.04, 'Modi': 0.16, 'Wednesday': 0.04, 'gave': 0.04, 'mantra': 0.04, '‘': 0.04, 'compete': 0.04, 'conquer': 0.04, '’': 0.04, 'opening': 0.04, 'remarks': 0.04, 'inauguration': 0.04, '25th': 0.04, 'National': 0.12, 'Youth': 0.12, 'Festival': 0.08, 'Puducherry': 0.08, 'Speaking': 0.04, 'programme': 0.04, 'PM': 0.12, 'said': 0.16, 'world': 0.08, 'recognised': 0.04, 'India': 0.2, 'limitless': 0.04, 'powers': 0.04, 'demography': 0.04, 'democracy': 0.04, '“The': 0.04, 'youth': 0.2, 'carry': 0.04, 'democratic': 0.04, 'values': 0.04, 'demographic': 0.04, 'dividends': 0.04, 'considers': 0.04, 'youths': 0.04, 'development': 0.04, 'drivers': 0.04, '”': 0.12, 'day': 0.04, 'January': 0.04, '12': 0.04, 'birth': 0.04, 'anniversary': 0.04, 'Swami': 0.04, 'Vivekananda': 0.04, 'observed': 0.04, 'Day': 0.04, '“': 0.08, 'year': 0.04, '2022': 0.04, 'important': 0.16, 'Today': 0.04, 'live': 0.04, 'country': 0.08, 'fulfill': 0.04, 'dreams': 0.04, 'freedom': 0.08, 'fighters': 0.08, '...': 0.04, 'strength': 0.04, 'greater': 0.04, 'heights': 0.04, 'added': 0.04, 'stressed': 0.04, 'contributions': 0.04, 'recognition': 0.04, 'deserved': 0.04, 'write': 0.04, 'research': 0.04, 'individuals': 0.04, 'awareness': 0.04, 'increase': 0.04, 'future': 0.04, 'generations': 0.04, 'f': 0.04, 'urged': 0.04, 'prime': 0.04, 'minister': 0.04, 'inaugurated': 0.04, 'technology': 0.08, 'centre': 0.12, 'MSME': 0.16, 'ministry': 0.04, 'Perunthalaivar': 0.04, 'Kamarajar': 0.04, 'Manimandapam': 0.04, 'auditorium': 0.08, 'open': 0.04, 'air': 0.04, 'theatre': 0.04, 'video': 0.04, 'conference': 0.04, 'accommodate': 0.04, '1000': 0.04, 'people': 0.04, 'primarily': 0.04, 'educational': 0.04, 'purposes': 0.04, 'inaugurating': 0.04, 'role': 0.04, 'sector': 0.04, 'creating': 0.04, 'Atmanirbhar': 0.04, 'Bharat': 0.04, 'use': 0.04, 'technologies': 0.04, 'changing': 0.04, 'new': 0.04, 'step': 0.04, 'direction': 0.04}\n"
          ]
        }
      ]
    },
    {
      "cell_type": "code",
      "source": [
        "sentence_tokens = [sent for sent in doc.sents]\n",
        "print(sentence_tokens)"
      ],
      "metadata": {
        "colab": {
          "base_uri": "https://localhost:8080/"
        },
        "id": "pHEVrbfg8RZi",
        "outputId": "d8397c37-88d1-4afd-8519-7a44e0bb972d"
      },
      "execution_count": null,
      "outputs": [
        {
          "output_type": "stream",
          "name": "stdout",
          "text": [
            "[Prime Minister Narendra Modi on Wednesday gave the mantra of ‘compete and conquer’ during his opening remarks at the inauguration of the 25th National Youth Festival in Puducherry., Speaking at the National Youth Festival programme, PM Modi said that the world has recognised India's two limitless powers of demography and democracy., “The youth of India carry democratic values along with demographic dividends., India considers its youths as development drivers,” he said., The day, January 12, being the birth anniversary of Swami Vivekananda, is observed as National Youth Day., “The year 2022 is very important for the youth of India., Today's youth has to live for the country and fulfill the dreams of our freedom fighters..., The strength of the youth will take India to greater heights,” he added., PM Modi stressed that the contributions of many freedom fighters did not get the recognition they deserved., \"The more our youth write and research about such individuals, the more awareness will increase in future generations f the country,\" he urged., The prime minister also inaugurated a technology centre of the MSME ministry and Perunthalaivar Kamarajar Manimandapam, an auditorium with an open-air theatre in Puducherry via video conference., The auditorium, which can accommodate more than 1000 people, would primarily be used for educational purposes., After inaugurating the technology centre, PM Modi said that the role of the MSME sector is very important in creating 'Atmanirbhar Bharat'., “It is very important our MSME use the technologies that are changing the world., The new MSME centre is an important step in that direction,” he said.]\n"
          ]
        }
      ]
    },
    {
      "cell_type": "code",
      "source": [
        "sentence_scores = {}\n",
        "for sent in sentence_tokens:\n",
        "  for word in sent:\n",
        "    if word.text.lower() in word_frequencies.keys():\n",
        "      if sent not in sentence_scores.keys():\n",
        "        sentence_scores[sent] = word_frequencies[word.text.lower()]\n",
        "      else:\n",
        "        sentence_scores[sent] += word_frequencies[word.text.lower()]"
      ],
      "metadata": {
        "id": "kIsbMntc9QB_"
      },
      "execution_count": null,
      "outputs": []
    },
    {
      "cell_type": "code",
      "source": [
        "sentence_scores"
      ],
      "metadata": {
        "colab": {
          "base_uri": "https://localhost:8080/"
        },
        "id": "_b6RXV9DWlaA",
        "outputId": "b35750b7-d2a3-483c-d010-094fa647f8f9"
      },
      "execution_count": null,
      "outputs": [
        {
          "output_type": "execute_result",
          "data": {
            "text/plain": [
              "{Prime Minister Narendra Modi on Wednesday gave the mantra of ‘compete and conquer’ during his opening remarks at the inauguration of the 25th National Youth Festival in Puducherry.: 0.6799999999999999,\n",
              " Speaking at the National Youth Festival programme, PM Modi said that the world has recognised India's two limitless powers of demography and democracy.: 0.6800000000000002,\n",
              " “The youth of India carry democratic values along with demographic dividends.: 0.39999999999999997,\n",
              " India considers its youths as development drivers,” he said.: 0.44000000000000006,\n",
              " The day, January 12, being the birth anniversary of Swami Vivekananda, is observed as National Youth Day.: 0.44,\n",
              " “The year 2022 is very important for the youth of India.: 0.52,\n",
              " Today's youth has to live for the country and fulfill the dreams of our freedom fighters...: 0.6,\n",
              " The strength of the youth will take India to greater heights,” he added.: 0.48,\n",
              " PM Modi stressed that the contributions of many freedom fighters did not get the recognition they deserved.: 0.31999999999999995,\n",
              " \"The more our youth write and research about such individuals, the more awareness will increase in future generations f the country,\" he urged.: 0.6399999999999999,\n",
              " The prime minister also inaugurated a technology centre of the MSME ministry and Perunthalaivar Kamarajar Manimandapam, an auditorium with an open-air theatre in Puducherry via video conference.: 0.6400000000000001,\n",
              " The auditorium, which can accommodate more than 1000 people, would primarily be used for educational purposes.: 0.32,\n",
              " After inaugurating the technology centre, PM Modi said that the role of the MSME sector is very important in creating 'Atmanirbhar Bharat'.: 0.68,\n",
              " “It is very important our MSME use the technologies that are changing the world.: 0.43999999999999995,\n",
              " The new MSME centre is an important step in that direction,” he said.: 0.68}"
            ]
          },
          "metadata": {},
          "execution_count": 34
        }
      ]
    },
    {
      "cell_type": "code",
      "source": [
        "from heapq import nlargest"
      ],
      "metadata": {
        "id": "PDoiIE2bXdLh"
      },
      "execution_count": null,
      "outputs": []
    },
    {
      "cell_type": "code",
      "source": [
        "select_length = int(len(sentence_tokens)*0.3)\n",
        "select_length"
      ],
      "metadata": {
        "colab": {
          "base_uri": "https://localhost:8080/"
        },
        "id": "zbQvh2AiXrjW",
        "outputId": "613384bb-1961-44bc-b7a5-41a0828385c8"
      },
      "execution_count": null,
      "outputs": [
        {
          "output_type": "execute_result",
          "data": {
            "text/plain": [
              "4"
            ]
          },
          "metadata": {},
          "execution_count": 38
        }
      ]
    },
    {
      "cell_type": "code",
      "source": [
        "summary = nlargest(select_length, sentence_scores, key = sentence_scores.get)"
      ],
      "metadata": {
        "id": "cKkwni6rYLRa"
      },
      "execution_count": null,
      "outputs": []
    },
    {
      "cell_type": "code",
      "source": [
        "summary"
      ],
      "metadata": {
        "colab": {
          "base_uri": "https://localhost:8080/"
        },
        "id": "4HRGK0SfZKvs",
        "outputId": "8056caa3-e66e-4754-9148-326f1a72be6b"
      },
      "execution_count": null,
      "outputs": [
        {
          "output_type": "execute_result",
          "data": {
            "text/plain": [
              "[Speaking at the National Youth Festival programme, PM Modi said that the world has recognised India's two limitless powers of demography and democracy.,\n",
              " After inaugurating the technology centre, PM Modi said that the role of the MSME sector is very important in creating 'Atmanirbhar Bharat'.,\n",
              " The new MSME centre is an important step in that direction,” he said.,\n",
              " Prime Minister Narendra Modi on Wednesday gave the mantra of ‘compete and conquer’ during his opening remarks at the inauguration of the 25th National Youth Festival in Puducherry.]"
            ]
          },
          "metadata": {},
          "execution_count": 40
        }
      ]
    },
    {
      "cell_type": "code",
      "source": [
        "final_summary = [word.text for word in summary]\n"
      ],
      "metadata": {
        "id": "d54h6BSyZMaR"
      },
      "execution_count": null,
      "outputs": []
    },
    {
      "cell_type": "code",
      "source": [
        "final_summary"
      ],
      "metadata": {
        "colab": {
          "base_uri": "https://localhost:8080/"
        },
        "id": "ibzYcMJgaMRO",
        "outputId": "9a293d8a-1435-40f3-a272-02dc8dd507ba"
      },
      "execution_count": null,
      "outputs": [
        {
          "output_type": "execute_result",
          "data": {
            "text/plain": [
              "[\"Speaking at the National Youth Festival programme, PM Modi said that the world has recognised India's two limitless powers of demography and democracy.\",\n",
              " \"After inaugurating the technology centre, PM Modi said that the role of the MSME sector is very important in creating 'Atmanirbhar Bharat'.\",\n",
              " 'The new MSME centre is an important step in that direction,” he said.',\n",
              " 'Prime Minister Narendra Modi on Wednesday gave the mantra of ‘compete and conquer’ during his opening remarks at the inauguration of the 25th National Youth Festival in Puducherry.']"
            ]
          },
          "metadata": {},
          "execution_count": 42
        }
      ]
    },
    {
      "cell_type": "code",
      "source": [
        ""
      ],
      "metadata": {
        "id": "8RC-zrgwaOeK"
      },
      "execution_count": null,
      "outputs": []
    }
  ]
}